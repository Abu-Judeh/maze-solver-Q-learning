{
  "nbformat": 4,
  "nbformat_minor": 0,
  "metadata": {
    "colab": {
      "provenance": []
    },
    "kernelspec": {
      "name": "python3",
      "display_name": "Python 3"
    },
    "language_info": {
      "name": "python"
    }
  },
  "cells": [
    {
      "cell_type": "markdown",
      "source": [
        "# **Import librareis**"
      ],
      "metadata": {
        "id": "eT9kj4X9gNFJ"
      }
    },
    {
      "cell_type": "code",
      "execution_count": 1,
      "metadata": {
        "id": "LcbTTClRbZ_0"
      },
      "outputs": [],
      "source": [
        "import numpy as np\n",
        "import pylab as pl\n",
        "import networkx as nx\n"
      ]
    },
    {
      "cell_type": "markdown",
      "source": [
        "# **Define The Graph**"
      ],
      "metadata": {
        "id": "l5WMTpb2gH8p"
      }
    },
    {
      "cell_type": "code",
      "source": [
        "edges = [(0,4),(4,0),(1,3),(3,1),(1,5),(5,1),(2,3),(3,2),(3,4),(4,3),(4,5),(5,4),(5,5)]\n",
        "# A=0, B=1 C=2 D=3 E=4 F=5\n",
        "goal = 5\n",
        "G = nx.Graph()\n",
        "G.add_edges_from(edges)\n",
        "pos = nx.spring_layout(G)\n",
        "nx.draw_networkx_nodes(G, pos)\n",
        "nx.draw_networkx_edges(G, pos)\n",
        "nx.draw_networkx_labels(G, pos)\n",
        "pl.show()\n",
        "# the maze is just a graph with a lot of nodes so we defined a graph that represnt the maze \n",
        "# the draw function is not for the maze and this is just a random plot of the maze this is what the function do "
      ],
      "metadata": {
        "colab": {
          "base_uri": "https://localhost:8080/",
          "height": 248
        },
        "id": "2X73P1YCcpdo",
        "outputId": "ca2a8ca3-412c-41e6-df62-dbaf15dfd623"
      },
      "execution_count": 2,
      "outputs": [
        {
          "output_type": "display_data",
          "data": {
            "text/plain": [
              "<Figure size 432x288 with 1 Axes>"
            ],
            "image/png": "[encoded data removed]"
          },
          "metadata": {}
        }
      ]
    },
    {
      "cell_type": "markdown",
      "source": [
        "# **Inisialize The Reward tabel**"
      ],
      "metadata": {
        "id": "9lNJY91df4o2"
      }
    },
    {
      "cell_type": "code",
      "source": [
        "MATRIX_SIZE = 6\n",
        "R = np.matrix(np.ones(shape =(MATRIX_SIZE, MATRIX_SIZE)))\n",
        "R *= -1\n",
        "\n",
        "for point in edges:\n",
        "  if point[1] == goal:\n",
        "    R[point] = 100\n",
        "  else:\n",
        "   R[point] = 0\n",
        "\n",
        "  if point[0] == goal:\n",
        "   R[point[::-1]] = 100\n",
        "  else:\n",
        "   R[point[::-1]]= 0\n",
        "\n",
        "R[goal, goal]= 100\n",
        "print(R)\n",
        "#each edge in the graph will have the value 0 in the reward table , each edge that is connected to the goal node will have the value 100 otherwise -1 "
      ],
      "metadata": {
        "colab": {
          "base_uri": "https://localhost:8080/"
        },
        "id": "qTV98k3UfAJm",
        "outputId": "2f21d64c-848d-41a9-eb3f-32799f0c32e9"
      },
      "execution_count": 3,
      "outputs": [
        {
          "output_type": "stream",
          "name": "stdout",
          "text": [
            "[[ -1.  -1.  -1.  -1.   0.  -1.]\n",
            " [ -1.  -1.  -1.   0.  -1. 100.]\n",
            " [ -1.  -1.  -1.   0.  -1.  -1.]\n",
            " [ -1.   0.   0.  -1.   0.  -1.]\n",
            " [  0.  -1.  -1.   0.  -1. 100.]\n",
            " [ -1.   0.  -1.  -1.   0. 100.]]\n"
          ]
        }
      ]
    },
    {
      "cell_type": "markdown",
      "source": [
        "# **Inisialize The Q-tabel**"
      ],
      "metadata": {
        "id": "QGgL2WEdguVD"
      }
    },
    {
      "cell_type": "code",
      "source": [
        "Q = np.matrix(np.zeros(shape =(MATRIX_SIZE, MATRIX_SIZE)))\n",
        "print(Q)\n",
        "# the Q-table will have the same size as the reward tabel but all the  values in it will start with zero , it will be updated later "
      ],
      "metadata": {
        "colab": {
          "base_uri": "https://localhost:8080/"
        },
        "id": "XP6jZarQfr4-",
        "outputId": "97493a33-c0a3-436d-fd8a-14db0d1f5fec"
      },
      "execution_count": 4,
      "outputs": [
        {
          "output_type": "stream",
          "name": "stdout",
          "text": [
            "[[0. 0. 0. 0. 0. 0.]\n",
            " [0. 0. 0. 0. 0. 0.]\n",
            " [0. 0. 0. 0. 0. 0.]\n",
            " [0. 0. 0. 0. 0. 0.]\n",
            " [0. 0. 0. 0. 0. 0.]\n",
            " [0. 0. 0. 0. 0. 0.]]\n"
          ]
        }
      ]
    },
    {
      "cell_type": "markdown",
      "source": [
        "# **Q-Learning Alg. Functions**"
      ],
      "metadata": {
        "id": "Ih6zrKcMhkJc"
      }
    },
    {
      "cell_type": "code",
      "source": [
        "#define a vallue of Y\n",
        "Y=0.8\n",
        "\n",
        "\n",
        "# Function to find all the available moves for the current state\n",
        "def available_moves(state):\n",
        "  current_state_row = R[state, ]\n",
        "  available_move = np.where(current_state_row >= 0)[1]\n",
        "  return available_move\n",
        "\n",
        "\n",
        "\n",
        "# function to Select next state by random (S)\n",
        "\n",
        "def rand_next_move(available_move_range):\n",
        "  next_move = int(np.random.choice(available_move, 1))\n",
        "  return next_move\n",
        "\n",
        "\n",
        "# Updates the Q-table according to the path chosen\n",
        "def update(init_state, next_move, Y):\n",
        "\n",
        "  max_index = np.where(Q[next_move, ] == np.max(Q[next_move, ]))[1]\n",
        "  if max_index.shape[0] > 1:\n",
        "   max_index = int(np.random.choice(max_index, size = 1))\n",
        "  else:\n",
        "   max_index = int(max_index)\n",
        "  max_value = Q[next_move, max_index]\n",
        "  Q[init_state, next_move] = R[init_state, next_move] + Y * max_value\n",
        "  if (np.max(Q) > 0):\n",
        "   return(np.sum(Q / np.max(Q)*100))\n",
        "  else:\n",
        "    return (0)"
      ],
      "metadata": {
        "id": "Eg6JsifPhrdu"
      },
      "execution_count": 5,
      "outputs": []
    },
    {
      "cell_type": "markdown",
      "source": [
        "# **Q-Learning Alg. steps**"
      ],
      "metadata": {
        "id": "u9A73afkk7Jm"
      }
    },
    {
      "cell_type": "code",
      "source": [
        "# now we will use all the functions that we wrote several times, i used 1500 itarations for the loop which is a big number because it's a small graph it it's so fast so there is no harm\n",
        "scores = []\n",
        "for i in range(2000):\n",
        "  current_state = np.random.randint(0, int(Q.shape[0])) #step 1:Select initial sate by random (s)\n",
        "  available_move = available_moves(current_state)       #get the available moves\n",
        "  next_move = rand_next_move(available_move)            #randomly choose the next move from the available moves\n",
        "  score = update(current_state, next_move, Y)           #update the q-table scores \n",
        "  scores.append(score)                               \n",
        "\n",
        "  \n",
        "\n",
        "\n"
      ],
      "metadata": {
        "id": "CLoXYdKRkozp"
      },
      "execution_count": 6,
      "outputs": []
    },
    {
      "cell_type": "markdown",
      "source": [
        "# **Testing**"
      ],
      "metadata": {
        "id": "zetkqc69OwhO"
      }
    },
    {
      "cell_type": "code",
      "source": [
        "# test the best solution from any state to the goal \n",
        "#some times we reach an infinte loop it's not a problem in the code just run the above code again and it will work (because it's random sometimes some nodes will not be counted )\n",
        "print(Q)\n",
        "\n",
        "for i in range (5):\n",
        "  current_state = i\n",
        "  steps = [current_state]\n",
        "  while current_state != 5:\n",
        "\n",
        "    next_step_index = np.where(Q[current_state, ] == np.max(Q[current_state, ]))[1]\n",
        "    if next_step_index.shape[0] > 1:\n",
        "      next_step_index = int(np.random.choice(next_step_index, size = 1))\n",
        "    else:\n",
        "      next_step_index = int(next_step_index)\n",
        "      steps.append(next_step_index)\n",
        "      current_state = next_step_index\n",
        "\n",
        "  print(\"Most efficient path:\")\n",
        "  print(steps)"
      ],
      "metadata": {
        "colab": {
          "base_uri": "https://localhost:8080/"
        },
        "id": "eYTwdLHFOzEW",
        "outputId": "a9aeed8a-59a4-454d-c037-4fbbc80e7dde"
      },
      "execution_count": 16,
      "outputs": [
        {
          "output_type": "stream",
          "name": "stdout",
          "text": [
            "[[  0.           0.           0.           0.         399.99999957\n",
            "    0.        ]\n",
            " [  0.           0.           0.         319.99999957   0.\n",
            "  499.99999947]\n",
            " [  0.           0.           0.         319.99999966   0.\n",
            "    0.        ]\n",
            " [  0.         399.99999947 255.99999947   0.         399.99999957\n",
            "    0.        ]\n",
            " [319.99999966   0.           0.         319.99999933   0.\n",
            "  499.99999947]\n",
            " [  0.         399.99999957   0.           0.         399.99999957\n",
            "  499.99999933]]\n",
            "Most efficient path:\n",
            "[0, 4, 5]\n",
            "Most efficient path:\n",
            "[1, 5]\n",
            "Most efficient path:\n",
            "[2, 3, 4, 5]\n",
            "Most efficient path:\n",
            "[3, 4, 5]\n",
            "Most efficient path:\n",
            "[4, 5]\n"
          ]
        }
      ]
    }
  ]
}